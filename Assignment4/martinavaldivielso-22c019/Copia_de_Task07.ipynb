{
  "cells": [
    {
      "cell_type": "markdown",
      "metadata": {
        "id": "nOOPLCHF7hLB"
      },
      "source": [
        "**Task 07: Querying RDF(s)**"
      ]
    },
    {
      "cell_type": "code",
      "execution_count": 1,
      "metadata": {
        "colab": {
          "base_uri": "https://localhost:8080/"
        },
        "id": "Yl9npCt8n6m-",
        "outputId": "491b7e14-defa-4c37-c80f-79286529d8d2"
      },
      "outputs": [
        {
          "output_type": "stream",
          "name": "stdout",
          "text": [
            "Collecting rdflib\n",
            "  Downloading rdflib-7.0.0-py3-none-any.whl (531 kB)\n",
            "\u001b[?25l     \u001b[90m━━━━━━━━━━━━━━━━━━━━━━━━━━━━━━━━━━━━━━━━\u001b[0m \u001b[32m0.0/531.9 kB\u001b[0m \u001b[31m?\u001b[0m eta \u001b[36m-:--:--\u001b[0m\r\u001b[2K     \u001b[91m━━━━━━━━━━━━━━━━━━━\u001b[0m\u001b[90m╺\u001b[0m\u001b[90m━━━━━━━━━━━━━━━━━━━━\u001b[0m \u001b[32m256.0/531.9 kB\u001b[0m \u001b[31m7.6 MB/s\u001b[0m eta \u001b[36m0:00:01\u001b[0m\r\u001b[2K     \u001b[90m━━━━━━━━━━━━━━━━━━━━━━━━━━━━━━━━━━━━━━━━\u001b[0m \u001b[32m531.9/531.9 kB\u001b[0m \u001b[31m8.5 MB/s\u001b[0m eta \u001b[36m0:00:00\u001b[0m\n",
            "\u001b[?25hCollecting isodate<0.7.0,>=0.6.0 (from rdflib)\n",
            "  Downloading isodate-0.6.1-py2.py3-none-any.whl (41 kB)\n",
            "\u001b[?25l     \u001b[90m━━━━━━━━━━━━━━━━━━━━━━━━━━━━━━━━━━━━━━━━\u001b[0m \u001b[32m0.0/41.7 kB\u001b[0m \u001b[31m?\u001b[0m eta \u001b[36m-:--:--\u001b[0m\r\u001b[2K     \u001b[90m━━━━━━━━━━━━━━━━━━━━━━━━━━━━━━━━━━━━━━━━\u001b[0m \u001b[32m41.7/41.7 kB\u001b[0m \u001b[31m6.1 MB/s\u001b[0m eta \u001b[36m0:00:00\u001b[0m\n",
            "\u001b[?25hRequirement already satisfied: pyparsing<4,>=2.1.0 in /usr/local/lib/python3.10/dist-packages (from rdflib) (3.1.1)\n",
            "Requirement already satisfied: six in /usr/local/lib/python3.10/dist-packages (from isodate<0.7.0,>=0.6.0->rdflib) (1.16.0)\n",
            "Installing collected packages: isodate, rdflib\n",
            "Successfully installed isodate-0.6.1 rdflib-7.0.0\n"
          ]
        }
      ],
      "source": [
        "!pip install rdflib\n",
        "github_storage = \"https://raw.githubusercontent.com/FacultadInformatica-LinkedData/Curso2023-2024/master/Assignment4/course_materials\""
      ]
    },
    {
      "cell_type": "markdown",
      "metadata": {
        "id": "XY7aPc86Bqoo"
      },
      "source": [
        "First let's read the RDF file"
      ]
    },
    {
      "cell_type": "code",
      "execution_count": 2,
      "metadata": {
        "colab": {
          "base_uri": "https://localhost:8080/"
        },
        "id": "9ERh415on7kF",
        "outputId": "6168bcce-ab06-4b57-c45a-1fa1c4552773"
      },
      "outputs": [
        {
          "output_type": "execute_result",
          "data": {
            "text/plain": [
              "<Graph identifier=N5c3542108ec646b1bd7ceae4aab264cf (<class 'rdflib.graph.Graph'>)>"
            ]
          },
          "metadata": {},
          "execution_count": 2
        }
      ],
      "source": [
        "from rdflib import Graph, Namespace, Literal\n",
        "from rdflib.namespace import RDF, RDFS\n",
        "g = Graph()\n",
        "g.namespace_manager.bind('ns', Namespace(\"http://somewhere#\"), override=False)\n",
        "g.namespace_manager.bind('vcard', Namespace(\"http://www.w3.org/2001/vcard-rdf/3.0#\"), override=False)\n",
        "g.parse(github_storage+\"/rdf/example6.rdf\", format=\"xml\")"
      ]
    },
    {
      "cell_type": "markdown",
      "metadata": {
        "id": "qp1oe2Eddsvo"
      },
      "source": [
        "**TASK 7.1: List all subclasses of \"LivingThing\" with RDFLib and SPARQL**"
      ]
    },
    {
      "cell_type": "code",
      "execution_count": 8,
      "metadata": {
        "id": "tRcSWuMHOXBl",
        "colab": {
          "base_uri": "https://localhost:8080/"
        },
        "outputId": "2c3c320a-3735-4620-af9c-8320987eb172"
      },
      "outputs": [
        {
          "output_type": "stream",
          "name": "stdout",
          "text": [
            "RDFLib\n",
            "http://somewhere#Person\n",
            "http://somewhere#Animal\n",
            "SPARQL\n",
            "(rdflib.term.URIRef('http://somewhere#Person'),)\n",
            "(rdflib.term.URIRef('http://somewhere#Animal'),)\n"
          ]
        }
      ],
      "source": [
        "from rdflib.plugins.sparql import prepareQuery\n",
        "ns = Namespace(\"http://somewhere#\")\n",
        "rdfs = Namespace(\"http://www.w3.org/2000/01/rdf-schema#\")\n",
        "\n",
        "print(\"RDFLib\")\n",
        "for s,p,o in g.triples((None, RDFS.subClassOf, ns.LivingThing)):\n",
        "  print(s)\n",
        "\n",
        "print(\"SPARQL\")\n",
        "q1 = prepareQuery('''\n",
        "    SELECT distinct ?subClass\n",
        "    WHERE {\n",
        "      ?subClass rdfs:subClassOf ns:LivingThing\n",
        "    }\n",
        "    ''',\n",
        "    initNs = {\"rdfs\": rdfs, \"ns\": ns}\n",
        ")\n",
        "\n",
        "for r in g.query(q1):\n",
        "  print(r)"
      ]
    },
    {
      "cell_type": "markdown",
      "metadata": {
        "id": "gM3DASkTQQ5Y"
      },
      "source": [
        "**TASK 7.2: List all individuals of \"Person\" with RDFLib and SPARQL (remember the subClasses)**\n"
      ]
    },
    {
      "cell_type": "code",
      "execution_count": 9,
      "metadata": {
        "id": "LiKSPHRzS-XJ",
        "colab": {
          "base_uri": "https://localhost:8080/"
        },
        "outputId": "b9e35e60-1822-4428-ca21-00c3e8bd26d8"
      },
      "outputs": [
        {
          "output_type": "stream",
          "name": "stdout",
          "text": [
            "RDFLib\n",
            "http://somewhere#SaraJones\n",
            "http://somewhere#JohnSmith\n",
            "http://somewhere#JaneSmith\n",
            "http://somewhere#JimGonzalez\n",
            "SPARQL\n",
            "(rdflib.term.URIRef('http://somewhere#SaraJones'),)\n",
            "(rdflib.term.URIRef('http://somewhere#JohnSmith'),)\n",
            "(rdflib.term.URIRef('http://somewhere#JaneSmith'),)\n",
            "(rdflib.term.URIRef('http://somewhere#JimGonzalez'),)\n"
          ]
        }
      ],
      "source": [
        "rdf = Namespace(\"http://www.w3.org/1999/02/22-rdf-syntax-ns#\")\n",
        "\n",
        "print(\"RDFLib\")\n",
        "for s,p,o in g.triples((None, RDF.type, ns.Person)):\n",
        "  print(s)\n",
        "for s,p,o in g.triples((None, RDFS.subClassOf, ns.Person)):\n",
        "  for s1,p1,o1 in g.triples((None, RDF.type, s)):\n",
        "    print(s1)\n",
        "\n",
        "print(\"SPARQL\")\n",
        "q2 = prepareQuery('''\n",
        "    SELECT distinct ?individual\n",
        "    WHERE {\n",
        "      {\n",
        "        ?individual rdf:type ns:Person.\n",
        "      } UNION {\n",
        "        ?x rdfs:subClassOf ns:Person.\n",
        "        ?individual rdf:type ?x\n",
        "      }\n",
        "    }\n",
        "    ''',\n",
        "    initNs = {\"rdfs\": rdfs, \"rdf\": rdf, \"ns\": ns}\n",
        ")\n",
        "\n",
        "for r in g.query(q2):\n",
        "  print(r)"
      ]
    },
    {
      "cell_type": "markdown",
      "metadata": {
        "id": "MXBqtBkJd22I"
      },
      "source": [
        "**TASK 7.3: List all individuals of \"Person\" or \"Animal\" and all their properties including their class with RDFLib and SPARQL. You do not need to list the individuals of the subclasses of person**\n"
      ]
    },
    {
      "cell_type": "code",
      "execution_count": 11,
      "metadata": {
        "id": "APQGv3NHX8Tf",
        "colab": {
          "base_uri": "https://localhost:8080/"
        },
        "outputId": "0ea35e3a-934b-4436-f5ca-b31d0e9b03ea"
      },
      "outputs": [
        {
          "output_type": "stream",
          "name": "stdout",
          "text": [
            "RDFLib\n",
            "http://somewhere#SaraJones http://www.w3.org/1999/02/22-rdf-syntax-ns#type http://somewhere#Person\n",
            "http://somewhere#SaraJones http://www.w3.org/2001/vcard-rdf/3.0/Given Sara\n",
            "http://somewhere#SaraJones http://www.w3.org/2001/vcard-rdf/3.0/FN Sara Jones\n",
            "http://somewhere#SaraJones http://www.w3.org/2001/vcard-rdf/3.0/Family Jones\n",
            "http://somewhere#SaraJones http://xmlns.com/foaf/0.1/knows http://somewhere#RockySmith\n",
            "http://somewhere#SaraJones http://xmlns.com/foaf/0.1/knows http://somewhere#JaneSmith\n",
            "http://somewhere#JohnSmith http://www.w3.org/1999/02/22-rdf-syntax-ns#type http://somewhere#Person\n",
            "http://somewhere#JohnSmith http://www.w3.org/2001/vcard-rdf/3.0/Given John\n",
            "http://somewhere#JohnSmith http://www.w3.org/2001/vcard-rdf/3.0/FN John Smith\n",
            "http://somewhere#JohnSmith http://www.w3.org/2001/vcard-rdf/3.0/Family Smith\n",
            "http://somewhere#RockySmith http://www.w3.org/1999/02/22-rdf-syntax-ns#type http://somewhere#Animal\n",
            "http://somewhere#RockySmith http://www.w3.org/2001/vcard-rdf/3.0/Given Rocky\n",
            "http://somewhere#RockySmith http://www.w3.org/2001/vcard-rdf/3.0/FN Rocky Smith\n",
            "http://somewhere#RockySmith http://www.w3.org/2001/vcard-rdf/3.0/Family Smith\n",
            "http://somewhere#RockySmith http://xmlns.com/foaf/0.1/knows http://somewhere#JaneSmith\n",
            "http://somewhere#RockySmith http://xmlns.com/foaf/0.1/knows http://somewhere#SaraJones\n",
            "SPARQL\n",
            "(rdflib.term.URIRef('http://somewhere#SaraJones'), rdflib.term.URIRef('http://www.w3.org/1999/02/22-rdf-syntax-ns#type'), rdflib.term.URIRef('http://somewhere#Person'))\n",
            "(rdflib.term.URIRef('http://somewhere#SaraJones'), rdflib.term.URIRef('http://www.w3.org/2001/vcard-rdf/3.0/Given'), rdflib.term.Literal('Sara', datatype=rdflib.term.URIRef('http://www.w3.org/2001/XMLSchema#string')))\n",
            "(rdflib.term.URIRef('http://somewhere#SaraJones'), rdflib.term.URIRef('http://www.w3.org/2001/vcard-rdf/3.0/FN'), rdflib.term.Literal('Sara Jones', datatype=rdflib.term.URIRef('http://www.w3.org/2001/XMLSchema#string')))\n",
            "(rdflib.term.URIRef('http://somewhere#SaraJones'), rdflib.term.URIRef('http://www.w3.org/2001/vcard-rdf/3.0/Family'), rdflib.term.Literal('Jones', datatype=rdflib.term.URIRef('http://www.w3.org/2001/XMLSchema#string')))\n",
            "(rdflib.term.URIRef('http://somewhere#SaraJones'), rdflib.term.URIRef('http://xmlns.com/foaf/0.1/knows'), rdflib.term.URIRef('http://somewhere#RockySmith'))\n",
            "(rdflib.term.URIRef('http://somewhere#SaraJones'), rdflib.term.URIRef('http://xmlns.com/foaf/0.1/knows'), rdflib.term.URIRef('http://somewhere#JaneSmith'))\n",
            "(rdflib.term.URIRef('http://somewhere#JohnSmith'), rdflib.term.URIRef('http://www.w3.org/1999/02/22-rdf-syntax-ns#type'), rdflib.term.URIRef('http://somewhere#Person'))\n",
            "(rdflib.term.URIRef('http://somewhere#JohnSmith'), rdflib.term.URIRef('http://www.w3.org/2001/vcard-rdf/3.0/Given'), rdflib.term.Literal('John', datatype=rdflib.term.URIRef('http://www.w3.org/2001/XMLSchema#string')))\n",
            "(rdflib.term.URIRef('http://somewhere#JohnSmith'), rdflib.term.URIRef('http://www.w3.org/2001/vcard-rdf/3.0/FN'), rdflib.term.Literal('John Smith', datatype=rdflib.term.URIRef('http://www.w3.org/2001/XMLSchema#string')))\n",
            "(rdflib.term.URIRef('http://somewhere#JohnSmith'), rdflib.term.URIRef('http://www.w3.org/2001/vcard-rdf/3.0/Family'), rdflib.term.Literal('Smith', datatype=rdflib.term.URIRef('http://www.w3.org/2001/XMLSchema#string')))\n",
            "(rdflib.term.URIRef('http://somewhere#RockySmith'), rdflib.term.URIRef('http://www.w3.org/1999/02/22-rdf-syntax-ns#type'), rdflib.term.URIRef('http://somewhere#Animal'))\n",
            "(rdflib.term.URIRef('http://somewhere#RockySmith'), rdflib.term.URIRef('http://www.w3.org/2001/vcard-rdf/3.0/Given'), rdflib.term.Literal('Rocky', datatype=rdflib.term.URIRef('http://www.w3.org/2001/XMLSchema#string')))\n",
            "(rdflib.term.URIRef('http://somewhere#RockySmith'), rdflib.term.URIRef('http://www.w3.org/2001/vcard-rdf/3.0/FN'), rdflib.term.Literal('Rocky Smith', datatype=rdflib.term.URIRef('http://www.w3.org/2001/XMLSchema#string')))\n",
            "(rdflib.term.URIRef('http://somewhere#RockySmith'), rdflib.term.URIRef('http://www.w3.org/2001/vcard-rdf/3.0/Family'), rdflib.term.Literal('Smith', datatype=rdflib.term.URIRef('http://www.w3.org/2001/XMLSchema#string')))\n",
            "(rdflib.term.URIRef('http://somewhere#RockySmith'), rdflib.term.URIRef('http://xmlns.com/foaf/0.1/knows'), rdflib.term.URIRef('http://somewhere#JaneSmith'))\n",
            "(rdflib.term.URIRef('http://somewhere#RockySmith'), rdflib.term.URIRef('http://xmlns.com/foaf/0.1/knows'), rdflib.term.URIRef('http://somewhere#SaraJones'))\n"
          ]
        }
      ],
      "source": [
        "print(\"RDFLib\")\n",
        "for s, p, o in g.triples((None, RDF.type, ns.Person)):\n",
        "  for s1, p1, o1 in g.triples((s, None, None)) :\n",
        "    print (s1, p1, o1)\n",
        "for s, p, o in g.triples((None, RDF.type, ns.Animal)):\n",
        "  for s1, p1, o1 in g.triples((s, None, None)) :\n",
        "    print (s1, p1, o1)\n",
        "\n",
        "print(\"SPARQL\")\n",
        "q3 = prepareQuery('''\n",
        "    SELECT distinct ?individual ?property ?x\n",
        "    WHERE {\n",
        "        ?y rdfs:subClassOf ns:LivingThing.\n",
        "        ?individual rdf:type ?y.\n",
        "        ?individual ?property ?x\n",
        "    }\n",
        "    ''',\n",
        "    initNs = {\"rdfs\": rdfs, \"rdf\": rdf, \"ns\": ns}\n",
        ")\n",
        "\n",
        "for r in g.query(q3):\n",
        "  print(r)"
      ]
    },
    {
      "cell_type": "code",
      "source": [],
      "metadata": {
        "id": "_Y-l2Ij-YWTj"
      },
      "execution_count": null,
      "outputs": []
    },
    {
      "cell_type": "markdown",
      "source": [
        "**TASK 7.4:  List the name of the persons who know Rocky**"
      ],
      "metadata": {
        "id": "3NyI7M2VNr9R"
      }
    },
    {
      "cell_type": "code",
      "source": [
        "from rdflib import FOAF\n",
        "VCARD = Namespace(\"http://www.w3.org/2001/vcard-rdf/3.0#\")\n",
        "\n",
        "print(\"RDFLib\")\n",
        "for s, p, o in g.triples((None, FOAF.knows, ns.RockySmith)):\n",
        "  print(s)\n",
        "\n",
        "print(\"SPARQL\")\n",
        "q4 = prepareQuery('''\n",
        "  SELECT ?individual ?name\n",
        "  WHERE {\n",
        "    ?individual FOAF:knows ns:RockySmith.\n",
        "    ?individual <http://www.w3.org/2001/vcard-rdf/3.0/Given> ?name\n",
        "  }\n",
        "  ''',\n",
        "  initNs = {\"FOAF\": FOAF, \"VCARD\": VCARD, \"ns\": ns}\n",
        ")\n",
        "\n",
        "for r in g.query(q4):\n",
        "  print(r)"
      ],
      "metadata": {
        "id": "I_CNoIKdNpbx",
        "colab": {
          "base_uri": "https://localhost:8080/"
        },
        "outputId": "1411dc6b-4bb7-4ac1-88cc-9a466735b18e"
      },
      "execution_count": 14,
      "outputs": [
        {
          "output_type": "stream",
          "name": "stdout",
          "text": [
            "RDFLib\n",
            "http://somewhere#SaraJones\n",
            "http://somewhere#JaneSmith\n",
            "SPARQL\n",
            "(rdflib.term.URIRef('http://somewhere#SaraJones'), rdflib.term.Literal('Sara', datatype=rdflib.term.URIRef('http://www.w3.org/2001/XMLSchema#string')))\n",
            "(rdflib.term.URIRef('http://somewhere#JaneSmith'), rdflib.term.Literal('Jane', datatype=rdflib.term.URIRef('http://www.w3.org/2001/XMLSchema#string')))\n"
          ]
        }
      ]
    },
    {
      "cell_type": "markdown",
      "source": [
        "**Task 7.5: List the entities who know at least two other entities in the graph**"
      ],
      "metadata": {
        "id": "kyjGsyxDPa2C"
      }
    },
    {
      "cell_type": "code",
      "source": [
        "print(\"RDFLib\")\n",
        "lista = []\n",
        "entities = []\n",
        "for s, p, o in g.triples((None, FOAF.knows, None)):\n",
        "  if s in lista:\n",
        "    entities.append(s)\n",
        "  lista.append(s)\n",
        "print(entities)\n",
        "\n",
        "print(\"SPARQL\")\n",
        "q5 = prepareQuery('''\n",
        "  SELECT ?entity\n",
        "  WHERE {\n",
        "    ?entity FOAF:knows ?entity2\n",
        "  }\n",
        "  GROUP BY ?entity\n",
        "  HAVING (COUNT(?entity2) >= 2)\n",
        "  ''',\n",
        "  initNs = {\"FOAF\":FOAF}\n",
        ")\n",
        "\n",
        "for r in g.query(q5):\n",
        "  print(r.entity)"
      ],
      "metadata": {
        "id": "yoVwVZUAPaLm",
        "colab": {
          "base_uri": "https://localhost:8080/"
        },
        "outputId": "47a9e03d-d625-4b89-d9cd-3560dd8ec4d2"
      },
      "execution_count": 16,
      "outputs": [
        {
          "output_type": "stream",
          "name": "stdout",
          "text": [
            "RDFLib\n",
            "[rdflib.term.URIRef('http://somewhere#RockySmith'), rdflib.term.URIRef('http://somewhere#SaraJones'), rdflib.term.URIRef('http://somewhere#JaneSmith')]\n",
            "SPARQL\n",
            "http://somewhere#RockySmith\n",
            "http://somewhere#SaraJones\n",
            "http://somewhere#JaneSmith\n"
          ]
        }
      ]
    }
  ],
  "metadata": {
    "colab": {
      "provenance": []
    },
    "kernelspec": {
      "display_name": "Python 3 (ipykernel)",
      "language": "python",
      "name": "python3"
    },
    "language_info": {
      "codemirror_mode": {
        "name": "ipython",
        "version": 3
      },
      "file_extension": ".py",
      "mimetype": "text/x-python",
      "name": "python",
      "nbconvert_exporter": "python",
      "pygments_lexer": "ipython3",
      "version": "3.9.5"
    }
  },
  "nbformat": 4,
  "nbformat_minor": 0
}